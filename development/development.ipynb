{
 "cells": [
  {
   "cell_type": "markdown",
   "metadata": {},
   "source": [
    "# The Function"
   ]
  },
  {
   "cell_type": "code",
   "execution_count": 1,
   "metadata": {},
   "outputs": [
    {
     "name": "stdout",
     "output_type": "stream",
     "text": [
      "Regulation Dispatch for 1 minute:\n",
      "\n",
      "            Dispatch [kW]\n",
      "Time [min]               \n",
      "0.000000            90.00\n",
      "0.066667            90.00\n",
      "0.133333            90.00\n",
      "0.200000            90.00\n",
      "0.266667            90.00\n",
      "0.333333            97.50\n",
      "0.400000           100.00\n",
      "0.466667            18.25\n",
      "0.533333            72.75\n",
      "0.600000           100.00\n",
      "0.666667           100.00\n",
      "0.733333           100.00\n",
      "0.800000           100.00\n",
      "0.866667           100.00\n",
      "0.933333           100.00\n",
      "1.000000           100.00\n"
     ]
    }
   ],
   "source": [
    "import os\n",
    "import logging\n",
    "import numpy as np\n",
    "import pandas as pd\n",
    "\n",
    "try:\n",
    "    root = os.path.dirname(os.path.abspath(__file__))\n",
    "except:\n",
    "    root = os.getcwd()\n",
    "\n",
    "class dispatcher(object):\n",
    "    def __init__(self, length=60*60, step=4, reg_up=True, reg_dn=True, seed=None,\n",
    "                 db=os.path.join(os.path.dirname(root), 'data', 'FrequencyRegulationData.csv')):\n",
    "        '''\n",
    "        The dispatcher class to generate infinitive sequency of fast frequency regulation signal.\n",
    "\n",
    "        Input\n",
    "        -----\n",
    "        length (int): Total length of sequence, in seconds. (default = 60*60)\n",
    "        step (int): Stepsize of sequence, in seconds. (default = 4)\n",
    "            NOTE: Only 4 second steps supported in this version. Any other value will raise \n",
    "            a warning and fallback to the default.\n",
    "        reg_up (bool): Generate dispatch for regulation up (power feedback to grid). (default = True)\n",
    "            NOTE: Only True supported in this version. Any other value will raise \n",
    "            a warning and fallback to the default.\n",
    "        reg_dn (bool): Generate dispatch for regulation down (power draw to grid). (default = True)\n",
    "            NOTE: Only True supported in this version. Any other value will raise \n",
    "            a warning and fallback to the default.\n",
    "        seed (int): Seed for sequence generation. (default = None)\n",
    "        db (str): Path to database file. (default = __file__\\..\\data\\FrequencyRegulationData.csv)        \n",
    "        '''\n",
    "        self.logger = logging.getLogger(__name__)\n",
    "        self.length = length\n",
    "        self.step = step\n",
    "        self.reg_up = reg_up\n",
    "        self.reg_dn = reg_dn\n",
    "        self.seed = seed\n",
    "        self.db = db\n",
    "        \n",
    "        # Check inputs\n",
    "        if not step == 4:\n",
    "            self.logger.warning('The \"step\" argument must be int(4) in this version. Fallback to 4.')\n",
    "            self.step = 4\n",
    "        if not self.reg_up:\n",
    "            self.logger.warning('The \"reg_up\" argument must be True in this version. Fallback to True.')\n",
    "            self.reg_up = True\n",
    "        if not self.reg_dn:\n",
    "            self.logger.warning('The \"reg_dn\" argument must be True in this version. Fallback to True.')\n",
    "            self.reg_dn = True\n",
    "\n",
    "        # Add variables\n",
    "        self.time = 0\n",
    "        self.root = root        \n",
    "\n",
    "        # Read the datafile\n",
    "        self.data = self.read_data()\n",
    "        \n",
    "        # Generate sequence\n",
    "        self.seq = self.generate_seq()\n",
    "        \n",
    "    def read_data(self):\n",
    "        '''\n",
    "        Reads and processes the database file specified as \"db\" argument.\n",
    "        '''\n",
    "        if not os.path.exists(self.db):\n",
    "            msg = 'Cannot locate file \"{}\".'.format(self.db)\n",
    "            self.logger.error(msg)\n",
    "            raise FileNotFoundError(msg)\n",
    "        data = pd.read_csv(self.db, index_col=[0])\n",
    "        data = data.reset_index(drop=True)\n",
    "        data.index = data.index * self.step / (60*60)\n",
    "        \n",
    "        # Cut into hourly\n",
    "        res = pd.DataFrame()\n",
    "        for c in data:\n",
    "            t = data[c]\n",
    "            for h in range(int(t.index[-1] + 0.5)):\n",
    "                res['{}_{}'.format(c, h)] = t.loc[h:(h+1-1e-4)].values\n",
    "        return res\n",
    "    \n",
    "    def generate_seq(self):\n",
    "        '''\n",
    "        Generates a regulaiton dispatch sequence of length defined by the \"length\" argument.\n",
    "        '''\n",
    "        np.random.seed(self.seed)\n",
    "        len_seq = int(self.length/self.step)\n",
    "        n_samples = int(self.length/self.step / len(self.data) + 0.5) * 100\n",
    "        samples = np.random.randint(0, len(self.data.columns), n_samples)\n",
    "        d = pd.DataFrame()\n",
    "        len_d = 0\n",
    "        i = 0\n",
    "        while len_d < len_seq:\n",
    "            if (n_samples - 1) < i:\n",
    "                self.logger.error('Could not assemble dispatch signal with seed {}.'.format(self.seed) + \\\n",
    "                                  ' Please try another seed.')\n",
    "                return pd.DataFrame()\n",
    "            if d.empty:\n",
    "                d = self.data.iloc[:,samples[i]]\n",
    "            else:\n",
    "                last_val = d.iloc[-1]\n",
    "                new_sample = self.data.iloc[:,samples[i]]\n",
    "                if last_val in new_sample.values:\n",
    "                    ix_start = new_sample[new_sample == last_val].index[0]\n",
    "                    d = d.append(new_sample.loc[ix_start:])\n",
    "            len_d = len(d)\n",
    "            i += 1\n",
    "        self.i = i\n",
    "        d = d[:len_seq]\n",
    "        d = d.reset_index(drop=True)\n",
    "        d.index = d.index * self.step\n",
    "        \n",
    "        # Check statistics\n",
    "        stats_data = self.data.describe().loc['mean'].describe()[['50%','75%']].to_dict()\n",
    "        if not (d.describe()['mean'] <= stats_data['75%']) or \\\n",
    "            not (d.describe()['mean'] >= stats_data['50%']):\n",
    "            self.logger.warning('Mean of sequence out of range, please use another seed or increase sequence length.')\n",
    "        return d\n",
    "    \n",
    "    def do_step(self):\n",
    "        '''\n",
    "        Function to iterate through regulation dispatch in a co-simulation environment. \n",
    "        \n",
    "        Each function call integrates time by one step, defined by the \"step\" argument.\n",
    "        \n",
    "        Return\n",
    "        ------\n",
    "        Return is a list, with same order as arguments below.\n",
    "        time (float): Current timestep since start of sequence, in seconds.\n",
    "        dispatch (float): Value of dispatch, in kW.\n",
    "        '''\n",
    "        time_now = float(self.time)\n",
    "        self.time += self.step\n",
    "        return [time_now, self.seq[time_now]]\n",
    "    \n",
    "    def get_sequence(self, timestamp=None):\n",
    "        '''\n",
    "        Function to generate a batch sequence of regulation dispatch. \n",
    "        \n",
    "        Input\n",
    "        -----\n",
    "        timestamp (str): Selector of timestamp format, one of [None, \"hour\", \"minute\"]. (default = None)\n",
    "        \n",
    "        Return\n",
    "        ------\n",
    "        res (pd.Series): The regulation dispatch with timestamp as index, and dispatch as value.\n",
    "        '''\n",
    "        res = self.seq.copy(deep=True)\n",
    "        res.name = 'Dispatch [kW]'\n",
    "        res.index.name = 'Time [s]'\n",
    "        if timestamp:\n",
    "            if timestamp == 'hour':\n",
    "                res.index = res.index / (60*60)\n",
    "                res.index.name = 'Time [h]'\n",
    "            elif timestamp == 'minute':\n",
    "                res.index = res.index / (60)\n",
    "                res.index.name = 'Time [min]'\n",
    "            else:\n",
    "                msg = 'The defined \"timestamp\" as \"{}\" is invalid. '.format(timestamp)\n",
    "                msg += 'Please use one of: [None, \"hour\", \"minute\"].'\n",
    "                self.logger.error(msg)\n",
    "                raise ValueError(msg)\n",
    "        return res\n",
    "    \n",
    "if __name__ == '__main__':\n",
    "    seed = 20\n",
    "    dispatch = dispatcher(seed=seed)\n",
    "    print('Regulation Dispatch for 1 minute:\\n')\n",
    "    print(pd.DataFrame(dispatch.get_sequence(timestamp='minute').loc[:1]))"
   ]
  },
  {
   "cell_type": "markdown",
   "metadata": {},
   "source": [
    "# Test Errors"
   ]
  },
  {
   "cell_type": "code",
   "execution_count": 2,
   "metadata": {},
   "outputs": [],
   "source": [
    "import sys\n",
    "import traceback\n",
    "\n",
    "seed = 20"
   ]
  },
  {
   "cell_type": "code",
   "execution_count": 3,
   "metadata": {},
   "outputs": [
    {
     "name": "stderr",
     "output_type": "stream",
     "text": [
      "The \"step\" argument must be int(4) in this version. Fallback to 4.\n",
      "The \"reg_up\" argument must be True in this version. Fallback to True.\n",
      "The \"reg_dn\" argument must be True in this version. Fallback to True.\n"
     ]
    }
   ],
   "source": [
    "_ = dispatcher(step=1, reg_up=False, reg_dn=False, seed=seed)"
   ]
  },
  {
   "cell_type": "code",
   "execution_count": 4,
   "metadata": {},
   "outputs": [
    {
     "name": "stderr",
     "output_type": "stream",
     "text": [
      "Cannot locate file \"NO_FILE\".\n"
     ]
    },
    {
     "name": "stdout",
     "output_type": "stream",
     "text": [
      "None\n"
     ]
    },
    {
     "name": "stderr",
     "output_type": "stream",
     "text": [
      "Traceback (most recent call last):\n",
      "  File \"<ipython-input-4-554ffe2ee617>\", line 2, in <module>\n",
      "    _ = dispatcher(db='NO_FILE', seed=seed)\n",
      "  File \"<ipython-input-1-ccbbffae9a4a>\", line 56, in __init__\n",
      "    self.data = self.read_data()\n",
      "  File \"<ipython-input-1-ccbbffae9a4a>\", line 68, in read_data\n",
      "    raise FileNotFoundError(msg)\n",
      "FileNotFoundError: Cannot locate file \"NO_FILE\".\n"
     ]
    }
   ],
   "source": [
    "try:\n",
    "    _ = dispatcher(db='NO_FILE', seed=seed)\n",
    "except:\n",
    "    print(traceback.print_exc())"
   ]
  },
  {
   "cell_type": "code",
   "execution_count": 5,
   "metadata": {},
   "outputs": [
    {
     "name": "stderr",
     "output_type": "stream",
     "text": [
      "Could not assemble dispatch signal with seed 1. Please try another seed.\n"
     ]
    }
   ],
   "source": [
    "_ = dispatcher(length=60, seed=1)"
   ]
  },
  {
   "cell_type": "code",
   "execution_count": 6,
   "metadata": {},
   "outputs": [
    {
     "name": "stderr",
     "output_type": "stream",
     "text": [
      "Mean of sequence out of range, please use another seed or increase sequence length.\n"
     ]
    }
   ],
   "source": [
    "_ = dispatcher(length=60*60, seed=1)"
   ]
  },
  {
   "cell_type": "code",
   "execution_count": 7,
   "metadata": {},
   "outputs": [
    {
     "name": "stderr",
     "output_type": "stream",
     "text": [
      "The defined \"timestamp\" as \"day\" is invalid. Please use one of: [None, \"hour\", \"minute\"].\n"
     ]
    },
    {
     "name": "stdout",
     "output_type": "stream",
     "text": [
      "None\n"
     ]
    },
    {
     "name": "stderr",
     "output_type": "stream",
     "text": [
      "Traceback (most recent call last):\n",
      "  File \"<ipython-input-7-c6092f3076f3>\", line 3, in <module>\n",
      "    dispatch.get_sequence(timestamp='day')\n",
      "  File \"<ipython-input-1-ccbbffae9a4a>\", line 161, in get_sequence\n",
      "    raise ValueError(msg)\n",
      "ValueError: The defined \"timestamp\" as \"day\" is invalid. Please use one of: [None, \"hour\", \"minute\"].\n"
     ]
    }
   ],
   "source": [
    "try:\n",
    "    dispatch = dispatcher(seed=seed)\n",
    "    dispatch.get_sequence(timestamp='day')\n",
    "except:\n",
    "    print(traceback.print_exc())"
   ]
  },
  {
   "cell_type": "markdown",
   "metadata": {},
   "source": [
    "# Demonstration"
   ]
  },
  {
   "cell_type": "code",
   "execution_count": 8,
   "metadata": {},
   "outputs": [],
   "source": [
    "import matplotlib.pyplot as plt"
   ]
  },
  {
   "cell_type": "markdown",
   "metadata": {},
   "source": [
    "### Co-Simulation Mode"
   ]
  },
  {
   "cell_type": "code",
   "execution_count": 9,
   "metadata": {},
   "outputs": [
    {
     "name": "stdout",
     "output_type": "stream",
     "text": [
      "Timestep [s]: 0 \tDispatch timestep [s] 0.0 \tDispatch power [kW] 90.0\n",
      "Timestep [s]: 4 \tDispatch timestep [s] 4.0 \tDispatch power [kW] 90.0\n",
      "Timestep [s]: 8 \tDispatch timestep [s] 8.0 \tDispatch power [kW] 90.0\n",
      "Timestep [s]: 12 \tDispatch timestep [s] 12.0 \tDispatch power [kW] 90.0\n",
      "Timestep [s]: 16 \tDispatch timestep [s] 16.0 \tDispatch power [kW] 90.0\n",
      "Timestep [s]: 20 \tDispatch timestep [s] 20.0 \tDispatch power [kW] 97.5\n",
      "Timestep [s]: 24 \tDispatch timestep [s] 24.0 \tDispatch power [kW] 100.0\n",
      "Timestep [s]: 28 \tDispatch timestep [s] 28.0 \tDispatch power [kW] 18.25\n",
      "Timestep [s]: 32 \tDispatch timestep [s] 32.0 \tDispatch power [kW] 72.75\n",
      "Timestep [s]: 36 \tDispatch timestep [s] 36.0 \tDispatch power [kW] 100.0\n",
      "Timestep [s]: 40 \tDispatch timestep [s] 40.0 \tDispatch power [kW] 100.0\n",
      "Timestep [s]: 44 \tDispatch timestep [s] 44.0 \tDispatch power [kW] 100.0\n",
      "Timestep [s]: 48 \tDispatch timestep [s] 48.0 \tDispatch power [kW] 100.0\n",
      "Timestep [s]: 52 \tDispatch timestep [s] 52.0 \tDispatch power [kW] 100.0\n",
      "Timestep [s]: 56 \tDispatch timestep [s] 56.0 \tDispatch power [kW] 100.0\n"
     ]
    },
    {
     "data": {
      "image/png": "[encoded data removed]",
      "text/plain": [
       "<Figure size 864x216 with 1 Axes>"
      ]
     },
     "metadata": {
      "needs_background": "light"
     },
     "output_type": "display_data"
    }
   ],
   "source": [
    "# Run for one hour\n",
    "length = 60*60\n",
    "\n",
    "# Setup dispatcher\n",
    "dispatch = dispatcher(length=length, seed=seed)\n",
    "\n",
    "# Print first 60 seconds\n",
    "res = pd.DataFrame()\n",
    "for ts in range(0, 60, dispatch.step):\n",
    "    dp = dispatch.do_step()\n",
    "    res.loc[dp[0], 'Dispatch [kW]'] = dp[1]\n",
    "    print('Timestep [s]:', ts, '\\tDispatch timestep [s]', dp[0], '\\tDispatch power [kW]', dp[1])\n",
    "    \n",
    "# Prepare results and make plot\n",
    "res.index = [pd.to_datetime('2020-01-01')+pd.DateOffset(seconds=ix) for ix in res.index]\n",
    "res = res.resample('1S').ffill()\n",
    "ax = res.plot(legend=False, figsize=(12,3), marker='.')\n",
    "ax.set_ylabel('Regulation Dispatch [kW]')\n",
    "plt.show()"
   ]
  },
  {
   "cell_type": "markdown",
   "metadata": {},
   "source": [
    "### Batch Mode"
   ]
  },
  {
   "cell_type": "code",
   "execution_count": 10,
   "metadata": {},
   "outputs": [
    {
     "name": "stdout",
     "output_type": "stream",
     "text": [
      "Time [s]\n",
      "0      90.00\n",
      "4      90.00\n",
      "8      90.00\n",
      "12     90.00\n",
      "16     90.00\n",
      "20     97.50\n",
      "24    100.00\n",
      "28     18.25\n",
      "32     72.75\n",
      "36    100.00\n",
      "40    100.00\n",
      "44    100.00\n",
      "48    100.00\n",
      "52    100.00\n",
      "56    100.00\n",
      "60    100.00\n",
      "Name: Dispatch [kW], dtype: float64\n"
     ]
    },
    {
     "data": {
      "image/png": "[encoded data removed]",
      "text/plain": [
       "<Figure size 864x216 with 1 Axes>"
      ]
     },
     "metadata": {
      "needs_background": "light"
     },
     "output_type": "display_data"
    }
   ],
   "source": [
    "# Setup dispatcher\n",
    "dispatch = dispatcher(length=length, seed=seed)\n",
    "res = dispatch.get_sequence()\n",
    "# Print first 60 seconds\n",
    "print(res.loc[:60])\n",
    "\n",
    "# Make plot\n",
    "res = res.loc[:60]\n",
    "res.index = [pd.to_datetime('2020-01-01')+pd.DateOffset(seconds=ix) for ix in res.index]\n",
    "res = res.resample('1S').ffill()\n",
    "ax = res.plot(legend=False, figsize=(12,3), marker='.')\n",
    "ax.set_ylabel('Regulation Dispatch [kW]')\n",
    "plt.show()"
   ]
  },
  {
   "cell_type": "markdown",
   "metadata": {},
   "source": [
    "### Long Series"
   ]
  },
  {
   "cell_type": "code",
   "execution_count": 11,
   "metadata": {},
   "outputs": [
    {
     "data": {
      "image/png": "[encoded data removed]",
      "text/plain": [
       "<Figure size 864x252 with 2 Axes>"
      ]
     },
     "metadata": {
      "needs_background": "light"
     },
     "output_type": "display_data"
    }
   ],
   "source": [
    "# Generate 12 hours of dispatch\n",
    "dispatch = dispatcher(length=12*60*60, seed=seed)\n",
    "\n",
    "# Plot\n",
    "fig, axs = plt.subplots(1, 2, figsize=(12, 3.5), sharex=False, gridspec_kw={'width_ratios':[8, 1]})\n",
    "axs = axs.ravel()\n",
    "axs[0].plot(dispatch.get_sequence(timestamp='hour'))\n",
    "axs[0].set_xlim(-0.25, 12.25)\n",
    "axs[0].set_ylabel('Regulation Dispatch [kW]')\n",
    "axs[0].set_xlabel('Time of Day [hour]')\n",
    "axs[1].boxplot(dispatch.get_sequence(timestamp='hour'), widths=0.6)\n",
    "plt.tight_layout()\n",
    "plt.savefig(os.path.join(os.path.dirname(root), 'documentation', 'result_example.jpg'), dpi=600)\n",
    "plt.show()"
   ]
  },
  {
   "cell_type": "code",
   "execution_count": null,
   "metadata": {},
   "outputs": [],
   "source": []
  }
 ],
 "metadata": {
  "kernelspec": {
   "display_name": "Python 3",
   "language": "python",
   "name": "python3"
  },
  "language_info": {
   "codemirror_mode": {
    "name": "ipython",
    "version": 3
   },
   "file_extension": ".py",
   "mimetype": "text/x-python",
   "name": "python",
   "nbconvert_exporter": "python",
   "pygments_lexer": "ipython3",
   "version": "3.7.3"
  }
 },
 "nbformat": 4,
 "nbformat_minor": 2
}
